{
 "cells": [
  {
   "cell_type": "markdown",
   "metadata": {
    "id": "pDrecLU-4QjS"
   },
   "source": [
    "# Практика"
   ]
  },
  {
   "cell_type": "markdown",
   "metadata": {
    "id": "gUvTNDlMaV-a"
   },
   "source": [
    "## Определение вероятности. События\n",
    "\n",
    "Требуется сгенерировать необходимые выборки и произвести по ним расчеты"
   ]
  },
  {
   "cell_type": "code",
   "execution_count": 1,
   "metadata": {},
   "outputs": [],
   "source": [
    "import pandas as pd\n",
    "import numpy as np\n",
    "import matplotlib.pyplot as plt\n",
    "import scipy.stats as sts\n",
    "%matplotlib inline\n",
    "import random\n",
    "from scipy import stats"
   ]
  },
  {
   "cell_type": "code",
   "execution_count": null,
   "metadata": {},
   "outputs": [],
   "source": []
  },
  {
   "cell_type": "markdown",
   "metadata": {
    "id": "5V70InEBTgup"
   },
   "source": [
    "### Задача 1\n",
    "Брошено две монеты. Найти вероятность того, что монеты выпали разными сторонами"
   ]
  },
  {
   "cell_type": "code",
   "execution_count": 3,
   "metadata": {},
   "outputs": [
    {
     "name": "stdout",
     "output_type": "stream",
     "text": [
      "aa= [0.503]\n"
     ]
    }
   ],
   "source": [
    "#1 орел 0 решка\n",
    "\n",
    "NN=[10000]\n",
    "aa=[]\n",
    "\n",
    "for N in NN:\n",
    "    M1=sts.bernoulli.rvs(0.5,size=N)\n",
    "    M2=sts.bernoulli.rvs(0.5,size=N)\n",
    "    A=0\n",
    "      \n",
    "    for i in range(N):\n",
    "        m1=M1[i]\n",
    "        m2=M2[i]\n",
    "        \n",
    "        if m1==0 and m2==1 or m1==1 and m2==0:\n",
    "            A+=1\n",
    "       \n",
    "    aa+=[A/N]\n",
    "  \n",
    "   \n",
    "\n",
    "print('aa=',aa)\n"
   ]
  },
  {
   "cell_type": "markdown",
   "metadata": {
    "id": "t0XOMos2Tl0e"
   },
   "source": [
    "### Задача 2\n",
    "Брошено три монеты. Описать множество всех элементарных событий. Найти вероятности следующих событий:\n",
    "\n",
    "\n",
    "1.   A = {не выпало ни одного герба}\n",
    "2.   B = {выпало четное число гербов}\n",
    "3.   C = {на третьей монете выпал герб}\n"
   ]
  },
  {
   "cell_type": "code",
   "execution_count": 33,
   "metadata": {},
   "outputs": [
    {
     "name": "stdout",
     "output_type": "stream",
     "text": [
      "aa= [0.12401]\n",
      "bb= [0.37514]\n",
      "cc= [0.50028]\n"
     ]
    }
   ],
   "source": [
    "\n",
    "#1 оред 0 решка\n",
    "\n",
    "NN=[100000]\n",
    "\n",
    "aa=[]\n",
    "bb=[]\n",
    "cc=[]\n",
    "for N in NN:\n",
    "    M1=sts.bernoulli.rvs(0.5,size=N)\n",
    "    M2=sts.bernoulli.rvs(0.5,size=N)\n",
    "    M3=sts.bernoulli.rvs(0.5,size=N)\n",
    "    A=0\n",
    "    B=0\n",
    "    C=0\n",
    "    for i in range(N):\n",
    "        m1=M1[i]\n",
    "        m2=M2[i]\n",
    "        m3=M3[i]\n",
    "        if m1==0 and m2==0 and m3==0:\n",
    "            A+=1\n",
    "        m=m1+m2+m3\n",
    "        if  m==2:\n",
    "            B+=1\n",
    "        if m3==1:\n",
    "            C+=1\n",
    "    aa+=[A/N]\n",
    "    bb+=[B/N]\n",
    "    cc+=[C/N]\n",
    "\n",
    "print('aa=',aa)\n",
    "print('bb=',bb) \n",
    "print('cc=',cc) \n",
    "    \n"
   ]
  },
  {
   "cell_type": "markdown",
   "metadata": {},
   "source": [
    "Предлагается также решить задачи: \n",
    "\n",
    "### Задача 3\n",
    "Из двух претендентов E и L на ответственную должность три члена комиссии должны отобрать одного. Каждый член комиссии должен указать либо одного достойного, либо забраковать обоих. Претендент считается выбранным, если он был признана достойным хотя бы двумя членами комиссии.\n",
    "Найти вероятность событий:\n",
    "\n",
    "A = {рекомендован L}, B = {рекомендован E}\n"
   ]
  },
  {
   "cell_type": "code",
   "execution_count": null,
   "metadata": {},
   "outputs": [],
   "source": [
    "####"
   ]
  },
  {
   "cell_type": "markdown",
   "metadata": {
    "id": "peM38mVfYa5B"
   },
   "source": [
    "### Задача 4\n",
    "Брошено две игральных кости. Описать множество элементарных событий. Найти вероятности событий:\n",
    "\n",
    "A = {вышло две \"шестерки\"}\n",
    "\n",
    "B = {сумма выпавших очков не меньше 11}\n",
    "\n",
    "C = {не выпала ни одна \"шестерка\"}"
   ]
  },
  {
   "cell_type": "code",
   "execution_count": 35,
   "metadata": {},
   "outputs": [
    {
     "name": "stdout",
     "output_type": "stream",
     "text": [
      "aa= [0.02764]\n",
      "bb= [0.97236]\n",
      "cc= [0.69366]\n"
     ]
    }
   ],
   "source": [
    "NN=[100000]\n",
    "\n",
    "aa=[]\n",
    "bb=[]\n",
    "cc=[]\n",
    "\n",
    "xk = [1,2,3,4,5,6]\n",
    "pk = (1/6,1/6, 1/6, 1/6, 1/6, 1/6)\n",
    "cub = stats.rv_discrete(name='custm', values=(xk, pk))\n",
    "\n",
    "for N in NN:\n",
    "    M1=cub.rvs(size=N)\n",
    "    M2=cub.rvs(size=N)\n",
    "    \n",
    "    \n",
    "    A=0\n",
    "    B=0\n",
    "    C=0\n",
    "    for i in range(N):\n",
    "        m1=M1[i]\n",
    "        m2=M2[i]\n",
    "       \n",
    "        if m1==6 and m2==6: \n",
    "            A+=1\n",
    "       \n",
    "        if (m1+m2)<12:\n",
    "            B+=1\n",
    "        if m1!=6 and m2!=6:\n",
    "            C+=1\n",
    "    aa+=[A/N]\n",
    "    bb+=[B/N]\n",
    "    cc+=[C/N]\n",
    "\n",
    "print('aa=',aa)\n",
    "print('bb=',bb) \n",
    "print('cc=',cc) \n",
    "    "
   ]
  },
  {
   "cell_type": "markdown",
   "metadata": {
    "id": "f-Bi0p8haclB"
   },
   "source": [
    "## Вероятность суммы событий"
   ]
  },
  {
   "cell_type": "markdown",
   "metadata": {
    "id": "g7A7QlvGTnwZ"
   },
   "source": [
    "### Задача 5\n",
    "Брошены две игральные кости. Найти вероятность события D = {выпала хотя бы одна шестёрка}\n"
   ]
  },
  {
   "cell_type": "code",
   "execution_count": 32,
   "metadata": {
    "id": "vjtTJN-kUp9D"
   },
   "outputs": [
    {
     "name": "stdout",
     "output_type": "stream",
     "text": [
      "dd= [0.30674]\n"
     ]
    },
    {
     "data": {
      "text/plain": [
       "0.3055555555555556"
      ]
     },
     "execution_count": 32,
     "metadata": {},
     "output_type": "execute_result"
    }
   ],
   "source": [
    "NN=[100000]\n",
    "\n",
    "dd=[]\n",
    "\n",
    "xk = [1,2,3,4,5,6]\n",
    "pk = (1/6,1/6, 1/6, 1/6, 1/6, 1/6)\n",
    "cub = stats.rv_discrete(name='custm', values=(xk, pk))\n",
    "\n",
    "for N in NN:\n",
    "    M1=cub.rvs(size=N)\n",
    "    M2=cub.rvs(size=N)\n",
    "      \n",
    "    D=0\n",
    "   \n",
    "    for i in range(N):\n",
    "        m1=M1[i]\n",
    "        m2=M2[i]\n",
    "                    \n",
    "        #if (m1==6 and m2!=6) or (m1!=6 and m2==6) or (m1==6 and m2==6):\n",
    "        if m1==6 or m2==6:\n",
    "            D+=1\n",
    "        \n",
    "    dd+=[D/N]\n",
    "    \n",
    "\n",
    "print('dd=',dd)\n",
    "11/36"
   ]
  },
  {
   "cell_type": "markdown",
   "metadata": {
    "id": "R1bYSzQQbC6I"
   },
   "source": [
    "Предлагается также решить задачи: \n",
    "\n",
    "### Задача 6\n",
    "В телефонном номере три последние цифры стерлись. Считая, что все возможные значения стершихся цифр равновероятны, найти вероятность событий:\n",
    "\n",
    "A = {Стерлись различные цифры},\n",
    "\n",
    "B = {Стерлись одинаковые цифры},\n",
    "\n",
    "C = {Среди стершихся цифр хотя бы две совпадают},\n",
    "\n",
    "D = {Среди стершихся цифр хотя бы две различны}\n"
   ]
  },
  {
   "cell_type": "code",
   "execution_count": 3,
   "metadata": {},
   "outputs": [
    {
     "name": "stdout",
     "output_type": "stream",
     "text": [
      "Стерлись различные цифры 0.72\n",
      "Стерлись одинаковые цифры 0.01\n",
      "Среди стершихся цифр хотя бы две совпадают 0.28\n",
      "Среди стершихся цифр хотя бы две различны 0.99\n"
     ]
    }
   ],
   "source": [
    "w=10*10*10\n",
    "a=10*9*8 # Стерлись различные цифры\n",
    "\n",
    "print('Стерлись различные цифры', a/w)\n",
    "\n",
    "b=10*1*1 #Стерлись одинаковые цифры\n",
    "print('Стерлись одинаковые цифры', b/w)\n",
    "\n",
    "c=10*9*2+10*1*9+10*1*1 #Среди стершихся цифр хотя бы две совпадают\n",
    "print('Среди стершихся цифр хотя бы две совпадают', c/w)\n",
    "\n",
    "d=10*1*9+10*9*1+10*9*1+10*9*8 #Среди стершихся цифр хотя бы две различны\n",
    "print('Среди стершихся цифр хотя бы две различны', d/w)\n",
    "\n"
   ]
  },
  {
   "cell_type": "markdown",
   "metadata": {
    "id": "RnugkR8BalK_"
   },
   "source": [
    "## Случайные величины"
   ]
  },
  {
   "cell_type": "markdown",
   "metadata": {
    "id": "yLoZDZ17UVsp"
   },
   "source": [
    "### Задача 7\n",
    "В лотерее имеется 10 билетов, из которых один выигрышный. Размер выигрыша 10 ден. ед.; стоимость билета 1 ден ед. Найти закон распределения случайной величины X, равной чистому выигрышу участника лотереи, который вытаскивает билет первым."
   ]
  },
  {
   "cell_type": "code",
   "execution_count": null,
   "metadata": {},
   "outputs": [],
   "source": [
    "В лотерее имеется 10 билетов, из которых один выигрышный. Размер выигрыша 10 ден. ед.;\n",
    "стоимость билета 1 ден ед. Найти закон распределения случайной величины X, равной чистому выигрышу участника лотереи, \n",
    "который вытаскивает билет первым."
   ]
  },
  {
   "cell_type": "code",
   "execution_count": 14,
   "metadata": {},
   "outputs": [
    {
     "data": {
      "text/plain": [
       "1.0"
      ]
     },
     "execution_count": 14,
     "metadata": {},
     "output_type": "execute_result"
    },
    {
     "data": {
      "image/png": "[encoded data removed]",
      "text/plain": [
       "<Figure size 432x288 with 1 Axes>"
      ]
     },
     "metadata": {
      "needs_background": "light"
     },
     "output_type": "display_data"
    }
   ],
   "source": [
    "#формируем x и y  из условий задачи\n",
    "x = ['-1','9']\n",
    "y = [0.9,0.1]\n",
    "plt.bar(x,y)\n",
    "sum(y) #проверка\n"
   ]
  },
  {
   "cell_type": "code",
   "execution_count": null,
   "metadata": {},
   "outputs": [],
   "source": []
  },
  {
   "cell_type": "code",
   "execution_count": null,
   "metadata": {},
   "outputs": [],
   "source": []
  },
  {
   "cell_type": "code",
   "execution_count": null,
   "metadata": {},
   "outputs": [],
   "source": []
  },
  {
   "cell_type": "markdown",
   "metadata": {
    "id": "U-NK9liSbpvb"
   },
   "source": [
    "Предлагается также решить задачу: \n",
    "\n",
    "### Задача 8\n",
    "Брошены две игральные кости. Найти закон распределения случайной величины $X$, равной сумме выпавших очков. Найти вероятности событий ${X <= 4}$, ${X > 4}$"
   ]
  },
  {
   "cell_type": "code",
   "execution_count": null,
   "metadata": {},
   "outputs": [],
   "source": [
    "#####"
   ]
  },
  {
   "cell_type": "markdown",
   "metadata": {
    "id": "shgW4D83awjK"
   },
   "source": [
    "## Условные вероятности"
   ]
  },
  {
   "cell_type": "markdown",
   "metadata": {
    "id": "Fbu1RFZwWZrk"
   },
   "source": [
    "### Задача 9\n",
    "Из колоды (36 карт) вынимают последовательно без возвращения две карты. Найти вероятность того, что первой картой была шестерка, а второй — семерка. Найти условную вероятность того же события при условии, что обе карты бубновой масти.\n"
   ]
  },
  {
   "cell_type": "code",
   "execution_count": 4,
   "metadata": {},
   "outputs": [
    {
     "name": "stdout",
     "output_type": "stream",
     "text": [
      "вероятность того,что  1-ой картой была шестерка, а второй семерка = 0.012698412698412697\n"
     ]
    }
   ],
   "source": [
    "#первый этап - найдем  вероятность того, что первой картой была шестерка, а второй — семерка.\n",
    "W=36\n",
    "A=4\n",
    "\n",
    "#print(A/W)\n",
    "W1=35\n",
    "A1=4\n",
    "#print(A1/W1)\n",
    "print('вероятность того,что  1-ой картой была шестерка, а второй семерка =', (A/W)*(A1/W1))\n",
    "\n",
    "\n"
   ]
  },
  {
   "cell_type": "code",
   "execution_count": 5,
   "metadata": {},
   "outputs": [
    {
     "name": "stdout",
     "output_type": "stream",
     "text": [
      "Условная вероятность того же события при условии,что обе карты бубновой масти = 0.0007936507936507935\n"
     ]
    }
   ],
   "source": [
    "#второй этап- найдем  условную вероятность того же события при условии, что обе карты бубновой масти.\n",
    "W=36\n",
    "\n",
    "B=1\n",
    "#print(B/W)\n",
    "B_6=B/W\n",
    "#print(B_6)\n",
    "\n",
    "\n",
    "W1=35\n",
    "\n",
    "B1=1\n",
    "B_7=B1/W1\n",
    "#print(B_7)\n",
    "\n",
    "BB=B_6*B_7\n",
    "print('Условная вероятность того же события при условии,что обе карты бубновой масти =', BB)\n",
    "\n"
   ]
  },
  {
   "cell_type": "code",
   "execution_count": null,
   "metadata": {},
   "outputs": [],
   "source": []
  },
  {
   "cell_type": "markdown",
   "metadata": {
    "id": "hNVxtaz5c57b"
   },
   "source": [
    "Предлагается также решить задачу: \n",
    "\n",
    "### Задача 10\n",
    "Из урны, содержащей два белых и три черных шара, последовательно извлекают два шара; вынутые шары не возвращаются. Если первый шар оказался черным, то перед вторым извлечением в урну добавляют белый шар. В противном случае состав оставшихся шаров не меняют. Найти вероятности событий:\n",
    "\n",
    "$A$ = {извлечены два белых шара},\n",
    "\n",
    "$B$ = {извлечены два черных шара}\n",
    "\n",
    "Указание. Пусть событие $C_1$ = {первый шар белый}, событие $C_2$ = {второй шар белый}. Тогда $A = C_1C_2$, $B = \\overline C_1 \\overline C_2$ "
   ]
  },
  {
   "cell_type": "code",
   "execution_count": null,
   "metadata": {
    "id": "WSLnhk2sdBt_"
   },
   "outputs": [],
   "source": [
    "####"
   ]
  }
 ],
 "metadata": {
  "colab": {
   "collapsed_sections": [],
   "name": "Практика к занятию 11.ipynb",
   "provenance": []
  },
  "kernelspec": {
   "display_name": "Python 3",
   "language": "python",
   "name": "python3"
  },
  "language_info": {
   "codemirror_mode": {
    "name": "ipython",
    "version": 3
   },
   "file_extension": ".py",
   "mimetype": "text/x-python",
   "name": "python",
   "nbconvert_exporter": "python",
   "pygments_lexer": "ipython3",
   "version": "3.7.4"
  }
 },
 "nbformat": 4,
 "nbformat_minor": 1
}
